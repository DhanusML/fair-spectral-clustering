{
 "cells": [
  {
   "cell_type": "code",
   "execution_count": 6,
   "metadata": {},
   "outputs": [
    {
     "ename": "UnboundLocalError",
     "evalue": "local variable 'metadata' referenced before assignment",
     "output_type": "error",
     "traceback": [
      "\u001b[1;31m---------------------------------------------------------------------------\u001b[0m",
      "\u001b[1;31mUnboundLocalError\u001b[0m                         Traceback (most recent call last)",
      "\u001b[1;32md:\\fromgit\\fair-spectral-clustering\\source\\clustering_temp.ipynb Cell 1\u001b[0m in \u001b[0;36m<cell line: 4>\u001b[1;34m()\u001b[0m\n\u001b[0;32m      <a href='vscode-notebook-cell:/d%3A/fromgit/fair-spectral-clustering/source/clustering_temp.ipynb#W0sZmlsZQ%3D%3D?line=0'>1</a>\u001b[0m \u001b[39mfrom\u001b[39;00m \u001b[39malgorithms\u001b[39;00m\u001b[39m.\u001b[39;00m\u001b[39mstandard_sc\u001b[39;00m \u001b[39mimport\u001b[39;00m \u001b[39m*\u001b[39m\n\u001b[0;32m      <a href='vscode-notebook-cell:/d%3A/fromgit/fair-spectral-clustering/source/clustering_temp.ipynb#W0sZmlsZQ%3D%3D?line=1'>2</a>\u001b[0m \u001b[39mfrom\u001b[39;00m \u001b[39mutils\u001b[39;00m\u001b[39m.\u001b[39;00m\u001b[39mpreprocessing\u001b[39;00m \u001b[39mimport\u001b[39;00m get_friendshipnet_data\n\u001b[1;32m----> <a href='vscode-notebook-cell:/d%3A/fromgit/fair-spectral-clustering/source/clustering_temp.ipynb#W0sZmlsZQ%3D%3D?line=3'>4</a>\u001b[0m n, edges  \u001b[39m=\u001b[39m get_friendshipnet_data()\n\u001b[0;32m      <a href='vscode-notebook-cell:/d%3A/fromgit/fair-spectral-clustering/source/clustering_temp.ipynb#W0sZmlsZQ%3D%3D?line=5'>6</a>\u001b[0m clusters \u001b[39m=\u001b[39m normalizedSC(n, \u001b[39m2\u001b[39m, edges)\n",
      "File \u001b[1;32md:\\fromgit\\fair-spectral-clustering\\source\\utils\\preprocessing.py:17\u001b[0m, in \u001b[0;36mget_friendshipnet_data\u001b[1;34m()\u001b[0m\n\u001b[0;32m      9\u001b[0m metadata_orig \u001b[39m=\u001b[39m np\u001b[39m.\u001b[39mgenfromtxt(\n\u001b[0;32m     10\u001b[0m         \u001b[39m\"\u001b[39m\u001b[39m../data/metadata_2013.txt\u001b[39m\u001b[39m\"\u001b[39m,\n\u001b[0;32m     11\u001b[0m         delimiter\u001b[39m=\u001b[39m\u001b[39m\"\u001b[39m\u001b[39m\\t\u001b[39;00m\u001b[39m\"\u001b[39m,\n\u001b[0;32m     12\u001b[0m         \u001b[39m# skip_header=True,\u001b[39;00m\n\u001b[0;32m     13\u001b[0m         \u001b[39m# dtype=\"str\",\u001b[39;00m\n\u001b[0;32m     14\u001b[0m     )\n\u001b[0;32m     15\u001b[0m     \u001b[39m# )[:,0]        #For only first column\u001b[39;00m\n\u001b[1;32m---> 17\u001b[0m No_of_Users \u001b[39m=\u001b[39m \u001b[39mlen\u001b[39m(np\u001b[39m.\u001b[39munique(metadata[:, \u001b[39m0\u001b[39m]))\n\u001b[0;32m     19\u001b[0m edges_orig \u001b[39m=\u001b[39m np\u001b[39m.\u001b[39mgenfromtxt(\n\u001b[0;32m     20\u001b[0m         \u001b[39m\"\u001b[39m\u001b[39m../data/Friendship-network_data_2013.csv\u001b[39m\u001b[39m\"\u001b[39m,\n\u001b[0;32m     21\u001b[0m         delimiter\u001b[39m=\u001b[39m\u001b[39m\"\u001b[39m\u001b[39m \u001b[39m\u001b[39m\"\u001b[39m, \n\u001b[0;32m     22\u001b[0m         \u001b[39m# skip_header=True,\u001b[39;00m\n\u001b[0;32m     23\u001b[0m         \u001b[39m# dtype=\"str\",\u001b[39;00m\n\u001b[0;32m     24\u001b[0m     )\n\u001b[0;32m     26\u001b[0m mapping, relabels \u001b[39m=\u001b[39m np\u001b[39m.\u001b[39munique((metadata_orig[:,\u001b[39m0\u001b[39m]), return_inverse\u001b[39m=\u001b[39m\u001b[39mTrue\u001b[39;00m)\n",
      "\u001b[1;31mUnboundLocalError\u001b[0m: local variable 'metadata' referenced before assignment"
     ]
    }
   ],
   "source": [
    "from algorithms.standard_sc import *\n",
    "from utils.preprocessing import get_friendshipnet_data\n",
    "\n",
    "n, edges  = get_friendshipnet_data()\n",
    "\n",
    "clusters = normalizedSC(n, 2, edges)"
   ]
  }
 ],
 "metadata": {
  "kernelspec": {
   "display_name": "Python 3.9.12 ('base')",
   "language": "python",
   "name": "python3"
  },
  "language_info": {
   "codemirror_mode": {
    "name": "ipython",
    "version": 3
   },
   "file_extension": ".py",
   "mimetype": "text/x-python",
   "name": "python",
   "nbconvert_exporter": "python",
   "pygments_lexer": "ipython3",
   "version": "3.9.12"
  },
  "orig_nbformat": 4,
  "vscode": {
   "interpreter": {
    "hash": "ad2bdc8ecc057115af97d19610ffacc2b4e99fae6737bb82f5d7fb13d2f2c186"
   }
  }
 },
 "nbformat": 4,
 "nbformat_minor": 2
}
