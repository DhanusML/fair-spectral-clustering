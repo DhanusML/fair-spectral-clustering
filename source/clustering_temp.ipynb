{
 "cells": [
  {
   "cell_type": "code",
   "execution_count": 5,
   "metadata": {},
   "outputs": [],
   "source": [
    "from algorithms.spectral_clustering import *\n",
    "from utils.preprocessing import get_friendshipnet_data\n",
    "from utils.utils import *\n",
    "import numpy as np\n",
    "import matplotlib.pyplot as plt\n",
    "import networkx as nx\n",
    "_, n, edges, _  = get_friendshipnet_data()\n",
    "\n",
    "%matplotlib qt\n",
    "\n"
   ]
  },
  {
   "cell_type": "code",
   "execution_count": 3,
   "metadata": {},
   "outputs": [],
   "source": [
    "def visualize2(n, edges, clusters=[]):\n",
    "    assert len(clusters)<7, \"more clusters than colours given.\"\n",
    "\n",
    "    vertices = range(n)\n",
    "    G = nx.Graph()\n",
    "    G.add_edges_from(edges)\n",
    "    print(len(G.nodes))\n",
    "    G.remove_nodes_from(list(nx.isolates(G)))\n",
    "    print((G.nodes))\n",
    "    pos=nx.spring_layout(G)\n",
    "    \n",
    "    colors = ['blue', 'red', 'cyan', 'green', 'magenta', 'black']\n",
    "\n",
    "\n",
    "    for i,c in enumerate(clusters):\n",
    "        nx.draw_networkx(\n",
    "            G, \n",
    "            # nodelist=c,\n",
    "            # G, pos=pos, nodelist=c,\n",
    "            node_color=colors[i],\n",
    "            with_labels=False\n",
    "        )\n",
    "    plt.show()"
   ]
  },
  {
   "cell_type": "code",
   "execution_count": 3,
   "metadata": {},
   "outputs": [],
   "source": [
    "def my_colors(n, k, vec):\n",
    "    ids  = np.linspace(0, k-1, k-1).astype(int)\n",
    "    print(ids)\n",
    "    node_colors = np.ndarray(n)\n",
    "    for i in range(len(ids)):\n",
    "        node_colors[np.where(vec == ids[i])] = i \n",
    "    values, count = np.unique(vec, return_counts=True)\n",
    "    colors = ['Grey', 'Purple', 'Blue', 'Green', 'Orange', 'Red', 'Yellow', 'Black', 'OrRd', 'PuRd', 'RdPu', 'BuPu', 'GnBu', 'PuBu', 'YlGnBu', 'PuBuGn', 'BuGn', 'YlGn']\n",
    "    colormap = []\n",
    "    for i in range(vec.size):\n",
    "        colormap.append(colors[int(node_colors[i])])\n",
    "    return colormap"
   ]
  },
  {
   "cell_type": "code",
   "execution_count": 53,
   "metadata": {},
   "outputs": [
    {
     "data": {
      "text/plain": [
       "array([6.12372436, 6.12372436, 0.        , 8.66025404])"
      ]
     },
     "execution_count": 53,
     "metadata": {},
     "output_type": "execute_result"
    }
   ],
   "source": [
    "my_colors(329, 2, clusters)\n",
    "np.ndarray(4)"
   ]
  },
  {
   "cell_type": "code",
   "execution_count": 57,
   "metadata": {},
   "outputs": [
    {
     "data": {
      "text/plain": [
       "265"
      ]
     },
     "execution_count": 57,
     "metadata": {},
     "output_type": "execute_result"
    }
   ],
   "source": [
    "len(clusters[0])    #64\n",
    "len(clusters[1])    #265"
   ]
  },
  {
   "cell_type": "code",
   "execution_count": 13,
   "metadata": {},
   "outputs": [],
   "source": [
    "\n",
    "edges = edges.astype(int)\n",
    "# clusters = normalizedSC(n, 3, edges)\n",
    "clusters = unnormalizedSC(n, 3, edges)\n",
    "visualize(n, edges, clusters)"
   ]
  },
  {
   "cell_type": "code",
   "execution_count": 2,
   "metadata": {},
   "outputs": [
    {
     "data": {
      "text/plain": [
       "134"
      ]
     },
     "execution_count": 2,
     "metadata": {},
     "output_type": "execute_result"
    }
   ],
   "source": [
    "n"
   ]
  }
 ],
 "metadata": {
  "kernelspec": {
   "display_name": "Python 3.9.12 ('base')",
   "language": "python",
   "name": "python3"
  },
  "language_info": {
   "codemirror_mode": {
    "name": "ipython",
    "version": 3
   },
   "file_extension": ".py",
   "mimetype": "text/x-python",
   "name": "python",
   "nbconvert_exporter": "python",
   "pygments_lexer": "ipython3",
   "version": "3.9.12"
  },
  "orig_nbformat": 4,
  "vscode": {
   "interpreter": {
    "hash": "ad2bdc8ecc057115af97d19610ffacc2b4e99fae6737bb82f5d7fb13d2f2c186"
   }
  }
 },
 "nbformat": 4,
 "nbformat_minor": 2
}
