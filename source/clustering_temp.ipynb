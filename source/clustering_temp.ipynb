{
 "cells": [
  {
   "cell_type": "code",
   "execution_count": 3,
   "metadata": {},
   "outputs": [
    {
     "ename": "NameError",
     "evalue": "name 'get_friendshipnet_data' is not defined",
     "output_type": "error",
     "traceback": [
      "\u001b[1;31m---------------------------------------------------------------------------\u001b[0m",
      "\u001b[1;31mNameError\u001b[0m                                 Traceback (most recent call last)",
      "\u001b[1;32md:\\fromgit\\fair-spectral-clustering\\source\\clustering_temp.ipynb Cell 1\u001b[0m in \u001b[0;36m<cell line: 4>\u001b[1;34m()\u001b[0m\n\u001b[0;32m      <a href='vscode-notebook-cell:/d%3A/fromgit/fair-spectral-clustering/source/clustering_temp.ipynb#W0sZmlsZQ%3D%3D?line=0'>1</a>\u001b[0m \u001b[39mfrom\u001b[39;00m \u001b[39malgorithms\u001b[39;00m\u001b[39m.\u001b[39;00m\u001b[39mstandard_sc\u001b[39;00m \u001b[39mimport\u001b[39;00m \u001b[39m*\u001b[39m\n\u001b[0;32m      <a href='vscode-notebook-cell:/d%3A/fromgit/fair-spectral-clustering/source/clustering_temp.ipynb#W0sZmlsZQ%3D%3D?line=1'>2</a>\u001b[0m \u001b[39mfrom\u001b[39;00m \u001b[39mutils\u001b[39;00m \u001b[39mimport\u001b[39;00m preprocessing\n\u001b[1;32m----> <a href='vscode-notebook-cell:/d%3A/fromgit/fair-spectral-clustering/source/clustering_temp.ipynb#W0sZmlsZQ%3D%3D?line=3'>4</a>\u001b[0m n, edges  \u001b[39m=\u001b[39m get_friendshipnet_data()\n\u001b[0;32m      <a href='vscode-notebook-cell:/d%3A/fromgit/fair-spectral-clustering/source/clustering_temp.ipynb#W0sZmlsZQ%3D%3D?line=5'>6</a>\u001b[0m clusters \u001b[39m=\u001b[39m normalizedSC(n, \u001b[39m2\u001b[39m, edges)\n",
      "\u001b[1;31mNameError\u001b[0m: name 'get_friendshipnet_data' is not defined"
     ]
    }
   ],
   "source": [
    "from algorithms.standard_sc import *\n",
    "from utils import preprocessing\n",
    "\n",
    "n, edges  = get_friendshipnet_data()\n",
    "\n",
    "clusters = normalizedSC(n, 2, edges)"
   ]
  }
 ],
 "metadata": {
  "kernelspec": {
   "display_name": "Python 3.9.12 ('base')",
   "language": "python",
   "name": "python3"
  },
  "language_info": {
   "codemirror_mode": {
    "name": "ipython",
    "version": 3
   },
   "file_extension": ".py",
   "mimetype": "text/x-python",
   "name": "python",
   "nbconvert_exporter": "python",
   "pygments_lexer": "ipython3",
   "version": "3.9.12"
  },
  "orig_nbformat": 4,
  "vscode": {
   "interpreter": {
    "hash": "ad2bdc8ecc057115af97d19610ffacc2b4e99fae6737bb82f5d7fb13d2f2c186"
   }
  }
 },
 "nbformat": 4,
 "nbformat_minor": 2
}
