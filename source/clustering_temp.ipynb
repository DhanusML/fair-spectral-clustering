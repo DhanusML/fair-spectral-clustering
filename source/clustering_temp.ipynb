{
 "cells": [
  {
   "cell_type": "code",
   "execution_count": 7,
   "metadata": {},
   "outputs": [
    {
     "ename": "OSError",
     "evalue": "./metadata_2013.txt not found.",
     "output_type": "error",
     "traceback": [
      "\u001b[1;31m---------------------------------------------------------------------------\u001b[0m",
      "\u001b[1;31mOSError\u001b[0m                                   Traceback (most recent call last)",
      "\u001b[1;32md:\\fromgit\\fair-spectral-clustering\\source\\clustering_temp.ipynb Cell 1\u001b[0m in \u001b[0;36m<cell line: 4>\u001b[1;34m()\u001b[0m\n\u001b[0;32m      <a href='vscode-notebook-cell:/d%3A/fromgit/fair-spectral-clustering/source/clustering_temp.ipynb#W0sZmlsZQ%3D%3D?line=0'>1</a>\u001b[0m \u001b[39mfrom\u001b[39;00m \u001b[39malgorithms\u001b[39;00m\u001b[39m.\u001b[39;00m\u001b[39mstandard_sc\u001b[39;00m \u001b[39mimport\u001b[39;00m \u001b[39m*\u001b[39m\n\u001b[0;32m      <a href='vscode-notebook-cell:/d%3A/fromgit/fair-spectral-clustering/source/clustering_temp.ipynb#W0sZmlsZQ%3D%3D?line=1'>2</a>\u001b[0m \u001b[39mfrom\u001b[39;00m \u001b[39mutils\u001b[39;00m\u001b[39m.\u001b[39;00m\u001b[39mpreprocessing\u001b[39;00m \u001b[39mimport\u001b[39;00m get_friendshipnet_data\n\u001b[1;32m----> <a href='vscode-notebook-cell:/d%3A/fromgit/fair-spectral-clustering/source/clustering_temp.ipynb#W0sZmlsZQ%3D%3D?line=3'>4</a>\u001b[0m n, edges  \u001b[39m=\u001b[39m get_friendshipnet_data()\n\u001b[0;32m      <a href='vscode-notebook-cell:/d%3A/fromgit/fair-spectral-clustering/source/clustering_temp.ipynb#W0sZmlsZQ%3D%3D?line=5'>6</a>\u001b[0m clusters \u001b[39m=\u001b[39m normalizedSC(n, \u001b[39m2\u001b[39m, edges)\n",
      "File \u001b[1;32md:\\fromgit\\fair-spectral-clustering\\source\\utils\\preprocessing.py:9\u001b[0m, in \u001b[0;36mget_friendshipnet_data\u001b[1;34m()\u001b[0m\n\u001b[0;32m      5\u001b[0m \u001b[39mdef\u001b[39;00m \u001b[39mget_friendshipnet_data\u001b[39m():\n\u001b[0;32m      6\u001b[0m     \u001b[39m\"\"\"Returns two parameters,\u001b[39;00m\n\u001b[0;32m      7\u001b[0m \u001b[39m        First: N (Number of Nodes in FriendshipNet)\u001b[39;00m\n\u001b[0;32m      8\u001b[0m \u001b[39m        Second: list of edges (Nx2 Numpy Matrix)\"\"\"\u001b[39;00m\n\u001b[1;32m----> 9\u001b[0m     metadata_orig \u001b[39m=\u001b[39m np\u001b[39m.\u001b[39;49mgenfromtxt(\n\u001b[0;32m     10\u001b[0m             \u001b[39m\"\u001b[39;49m\u001b[39m./metadata_2013.txt\u001b[39;49m\u001b[39m\"\u001b[39;49m,\n\u001b[0;32m     11\u001b[0m             delimiter\u001b[39m=\u001b[39;49m\u001b[39m\"\u001b[39;49m\u001b[39m\\t\u001b[39;49;00m\u001b[39m\"\u001b[39;49m,\n\u001b[0;32m     12\u001b[0m             \u001b[39m# skip_header=True,\u001b[39;49;00m\n\u001b[0;32m     13\u001b[0m             \u001b[39m# dtype=\"str\",\u001b[39;49;00m\n\u001b[0;32m     14\u001b[0m         )\n\u001b[0;32m     15\u001b[0m         \u001b[39m# )[:,0]        #For only first column\u001b[39;00m\n\u001b[0;32m     17\u001b[0m     No_of_Users \u001b[39m=\u001b[39m \u001b[39mlen\u001b[39m(np\u001b[39m.\u001b[39munique(metadata[:, \u001b[39m0\u001b[39m]))\n",
      "File \u001b[1;32mc:\\ProgramData\\Anaconda3\\lib\\site-packages\\numpy\\lib\\npyio.py:1793\u001b[0m, in \u001b[0;36mgenfromtxt\u001b[1;34m(fname, dtype, comments, delimiter, skip_header, skip_footer, converters, missing_values, filling_values, usecols, names, excludelist, deletechars, replace_space, autostrip, case_sensitive, defaultfmt, unpack, usemask, loose, invalid_raise, max_rows, encoding, like)\u001b[0m\n\u001b[0;32m   1791\u001b[0m     fname \u001b[39m=\u001b[39m os_fspath(fname)\n\u001b[0;32m   1792\u001b[0m \u001b[39mif\u001b[39;00m \u001b[39misinstance\u001b[39m(fname, \u001b[39mstr\u001b[39m):\n\u001b[1;32m-> 1793\u001b[0m     fid \u001b[39m=\u001b[39m np\u001b[39m.\u001b[39;49mlib\u001b[39m.\u001b[39;49m_datasource\u001b[39m.\u001b[39;49mopen(fname, \u001b[39m'\u001b[39;49m\u001b[39mrt\u001b[39;49m\u001b[39m'\u001b[39;49m, encoding\u001b[39m=\u001b[39;49mencoding)\n\u001b[0;32m   1794\u001b[0m     fid_ctx \u001b[39m=\u001b[39m contextlib\u001b[39m.\u001b[39mclosing(fid)\n\u001b[0;32m   1795\u001b[0m \u001b[39melse\u001b[39;00m:\n",
      "File \u001b[1;32mc:\\ProgramData\\Anaconda3\\lib\\site-packages\\numpy\\lib\\_datasource.py:193\u001b[0m, in \u001b[0;36mopen\u001b[1;34m(path, mode, destpath, encoding, newline)\u001b[0m\n\u001b[0;32m    156\u001b[0m \u001b[39m\"\"\"\u001b[39;00m\n\u001b[0;32m    157\u001b[0m \u001b[39mOpen `path` with `mode` and return the file object.\u001b[39;00m\n\u001b[0;32m    158\u001b[0m \n\u001b[1;32m   (...)\u001b[0m\n\u001b[0;32m    189\u001b[0m \n\u001b[0;32m    190\u001b[0m \u001b[39m\"\"\"\u001b[39;00m\n\u001b[0;32m    192\u001b[0m ds \u001b[39m=\u001b[39m DataSource(destpath)\n\u001b[1;32m--> 193\u001b[0m \u001b[39mreturn\u001b[39;00m ds\u001b[39m.\u001b[39;49mopen(path, mode, encoding\u001b[39m=\u001b[39;49mencoding, newline\u001b[39m=\u001b[39;49mnewline)\n",
      "File \u001b[1;32mc:\\ProgramData\\Anaconda3\\lib\\site-packages\\numpy\\lib\\_datasource.py:533\u001b[0m, in \u001b[0;36mDataSource.open\u001b[1;34m(self, path, mode, encoding, newline)\u001b[0m\n\u001b[0;32m    530\u001b[0m     \u001b[39mreturn\u001b[39;00m _file_openers[ext](found, mode\u001b[39m=\u001b[39mmode,\n\u001b[0;32m    531\u001b[0m                               encoding\u001b[39m=\u001b[39mencoding, newline\u001b[39m=\u001b[39mnewline)\n\u001b[0;32m    532\u001b[0m \u001b[39melse\u001b[39;00m:\n\u001b[1;32m--> 533\u001b[0m     \u001b[39mraise\u001b[39;00m \u001b[39mIOError\u001b[39;00m(\u001b[39m\"\u001b[39m\u001b[39m%s\u001b[39;00m\u001b[39m not found.\u001b[39m\u001b[39m\"\u001b[39m \u001b[39m%\u001b[39m path)\n",
      "\u001b[1;31mOSError\u001b[0m: ./metadata_2013.txt not found."
     ]
    }
   ],
   "source": [
    "from algorithms.standard_sc import *\n",
    "from utils.preprocessing import get_friendshipnet_data\n",
    "\n",
    "n, edges  = get_friendshipnet_data()\n",
    "\n",
    "clusters = normalizedSC(n, 2, edges)"
   ]
  }
 ],
 "metadata": {
  "kernelspec": {
   "display_name": "Python 3.9.12 ('base')",
   "language": "python",
   "name": "python3"
  },
  "language_info": {
   "codemirror_mode": {
    "name": "ipython",
    "version": 3
   },
   "file_extension": ".py",
   "mimetype": "text/x-python",
   "name": "python",
   "nbconvert_exporter": "python",
   "pygments_lexer": "ipython3",
   "version": "3.9.12"
  },
  "orig_nbformat": 4,
  "vscode": {
   "interpreter": {
    "hash": "ad2bdc8ecc057115af97d19610ffacc2b4e99fae6737bb82f5d7fb13d2f2c186"
   }
  }
 },
 "nbformat": 4,
 "nbformat_minor": 2
}
