{
 "cells": [
  {
   "cell_type": "code",
   "execution_count": 56,
   "metadata": {},
   "outputs": [],
   "source": [
    "from algorithms.spectral_clustering import *\n",
    "from utils.preprocessing import get_friendshipnet_data\n",
    "from utils.utils import *\n",
    "import numpy as np\n",
    "import matplotlib.pyplot as plt\n",
    "import networkx as nx\n",
    "# _, n, edges, _, _, gender_groups, _  = get_friendshipnet_data()       ##receives gender groups\n",
    "_, n, edges, _, _, _, gender_groups   = get_friendshipnet_data()        #receives class groups\n",
    "\n",
    "%matplotlib qt\n",
    "edges = edges.astype(int)\n",
    "\n"
   ]
  },
  {
   "cell_type": "code",
   "execution_count": null,
   "metadata": {},
   "outputs": [],
   "source": [
    "nooflines = 0 \n",
    "for i,j in edges:\n",
    "    if (j,i) in edges:\n",
    "        # print(i,j)\n",
    "        continue\n",
    "    else:\n",
    "        # print(i,j)\n",
    "        # np.concatenate((edges, np.array([j, i])), axis=0 )\n",
    "        np.vstack((edges, np.array([j, i])))\n",
    "# nooflines"
   ]
  },
  {
   "cell_type": "code",
   "execution_count": 59,
   "metadata": {},
   "outputs": [],
   "source": [
    "listofedges = edges.tolist()\n",
    "for (index, element) in enumerate(edges[:,0]):\n",
    "    j = edges[index, 1]\n",
    "    for k in range(edges.shape[0]):\n",
    "        if all(edges[k] == [j, element]):\n",
    "            break\n",
    "    else:\n",
    "        listofedges.append([j, element])\n",
    "edges = np.array(listofedges)"
   ]
  },
  {
   "cell_type": "code",
   "execution_count": 60,
   "metadata": {},
   "outputs": [
    {
     "data": {
      "text/plain": [
       "array([[  0,  10],\n",
       "       [  0,  41],\n",
       "       [  0,  57],\n",
       "       ...,\n",
       "       [103, 133],\n",
       "       [103, 133],\n",
       "       [103, 133]])"
      ]
     },
     "execution_count": 60,
     "metadata": {},
     "output_type": "execute_result"
    }
   ],
   "source": [
    "# all(edges[0] == [0, 10])\n",
    "edges"
   ]
  },
  {
   "cell_type": "code",
   "execution_count": 61,
   "metadata": {},
   "outputs": [
    {
     "data": {
      "text/plain": [
       "(812, 2)"
      ]
     },
     "execution_count": 61,
     "metadata": {},
     "output_type": "execute_result"
    }
   ],
   "source": [
    "edges.shape"
   ]
  },
  {
   "cell_type": "code",
   "execution_count": 54,
   "metadata": {},
   "outputs": [
    {
     "data": {
      "text/plain": [
       "(812, 2)"
      ]
     },
     "execution_count": 54,
     "metadata": {},
     "output_type": "execute_result"
    }
   ],
   "source": [
    "edges.shape"
   ]
  },
  {
   "cell_type": "code",
   "execution_count": null,
   "metadata": {},
   "outputs": [],
   "source": [
    "\n",
    "\n",
    "# clusters = normalizedSC(n, 5, edges)\n",
    "# clusters = unnormalizedSC(n, 2, edges)\n",
    "\n",
    "clusters = unnormalizedConSC(n, 3, edges, gender_groups)\n",
    "# clusters = normalizedConSC(n, 5, edges, gender_groups)\n",
    "\n",
    "visualize(n, edges, clusters)"
   ]
  },
  {
   "cell_type": "code",
   "execution_count": null,
   "metadata": {},
   "outputs": [],
   "source": [
    "# from algorithms.spectral_clustering import *\n",
    "# from utils.utils import *\n",
    "\n",
    "def get_sizes(clusters):\n",
    "    return list(map(lambda x: len(x), clusters))\n",
    "\n",
    "# if __name__ == \"__main__\":\n",
    "# cluster_sizes = [25,25,25,25]\n",
    "\n",
    "##########################################################\n",
    "# cluster_sizes = [10, 20, 30, 40]\n",
    "# edges, clusters_original = genGraph(100, cluster_sizes, 0.9, 0.1)\n",
    "# etas = [0.25,0.25,0.25,0.25]\n",
    "# groups = genGroups(100, etas, clusters_original)\n",
    "##########################################################\n",
    "\n",
    "\n",
    "no_of_clusters = 3\n",
    "\n",
    "groups = gender_groups\n",
    "\n",
    "## unnormalized vanilla SC ##\n",
    "clusters_vanilla_u = unnormalizedSC(n, no_of_clusters, edges)\n",
    "cuts_vanilla_u = []\n",
    "for c in clusters_vanilla_u:\n",
    "    cuts_vanilla_u.append(get_num_cuts(edges, c))\n",
    "\n",
    "group_cluster_mat_vanilla_u = get_group_cluster_matrix(clusters_vanilla_u,\n",
    "                                                        groups)\n",
    "\n",
    "## normalized vanilla SC ##\n",
    "clusters_vanilla = normalizedSC(n, no_of_clusters, edges)\n",
    "cuts_vanilla = []\n",
    "for c in clusters_vanilla_u:\n",
    "    cuts_vanilla.append(get_num_cuts(edges, c))\n",
    "\n",
    "group_cluster_mat_vanilla = get_group_cluster_matrix(clusters_vanilla,\n",
    "                                                        groups)\n",
    "\n",
    "## unnormalized cons SC ##\n",
    "clusters_con_u = unnormalizedConSC(n, no_of_clusters, edges, groups)\n",
    "cuts_con_u = []\n",
    "\n",
    "for c in clusters_con_u:\n",
    "    cuts_con_u.append(get_num_cuts(edges, c))\n",
    "\n",
    "group_cluster_mat_con_u = get_group_cluster_matrix(clusters_con_u, groups)\n",
    "\n",
    "## normalized cons SC ##\n",
    "clusters_con = normalizedConSC(n, no_of_clusters, edges, groups)\n",
    "cuts_con = []\n",
    "\n",
    "for c in clusters_con:\n",
    "    cuts_con.append(get_num_cuts(edges, c))\n",
    "\n",
    "group_cluster_mat_con = get_group_cluster_matrix(clusters_con, groups)\n",
    "\n",
    "\n",
    "clusters = normalizedConSC(n, no_of_clusters, edges, groups)\n",
    "cuts = []\n",
    "\n",
    "\n",
    "print(\"\\nvanilla unnormalized\")\n",
    "print(\"clusters: \", get_sizes(clusters_vanilla_u))\n",
    "print(\"cuts: \", cuts_vanilla_u)\n",
    "print(\"group cluster matrix:\\n\", group_cluster_mat_vanilla_u)\n",
    "print(\"balance \", get_balance(group_cluster_mat_vanilla_u))\n",
    "\n",
    "print(\"\\nvanilla normalized\")\n",
    "print(\"clusters: \", get_sizes(clusters_vanilla))\n",
    "print(\"cuts: \", cuts_vanilla)\n",
    "print(\"group cluster matrix:\\n\", group_cluster_mat_vanilla)\n",
    "print(\"balance \", get_balance(group_cluster_mat_vanilla))\n",
    "\n",
    "print(\"\\ncons unnormalized\")\n",
    "print(\"clusters: \", get_sizes(clusters_con_u))\n",
    "print(\"cuts: \", cuts_con_u)\n",
    "print(\"group cluster matrix:\\n\", group_cluster_mat_con_u)\n",
    "print(\"balance \", get_balance(group_cluster_mat_con_u))\n",
    "\n",
    "print(\"\\ncons normalized\")\n",
    "print(\"clusters: \", get_sizes(clusters_con))\n",
    "print(\"cuts: \", cuts_con)\n",
    "print(\"group cluster matrix:\\n\", group_cluster_mat_con)\n",
    "print(\"balance \", get_balance(group_cluster_mat_con))\n",
    "\n",
    "# visualize(100, edges, clusters)"
   ]
  }
 ],
 "metadata": {
  "kernelspec": {
   "display_name": "Python 3.9.12 ('base')",
   "language": "python",
   "name": "python3"
  },
  "language_info": {
   "codemirror_mode": {
    "name": "ipython",
    "version": 3
   },
   "file_extension": ".py",
   "mimetype": "text/x-python",
   "name": "python",
   "nbconvert_exporter": "python",
   "pygments_lexer": "ipython3",
   "version": "3.9.12"
  },
  "orig_nbformat": 4,
  "vscode": {
   "interpreter": {
    "hash": "ad2bdc8ecc057115af97d19610ffacc2b4e99fae6737bb82f5d7fb13d2f2c186"
   }
  }
 },
 "nbformat": 4,
 "nbformat_minor": 2
}
